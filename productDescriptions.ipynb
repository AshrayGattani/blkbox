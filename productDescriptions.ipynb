{
  "nbformat": 4,
  "nbformat_minor": 0,
  "metadata": {
    "colab": {
      "provenance": [],
      "authorship_tag": "ABX9TyOKcc3PKzpdpx6xhLlqwFPM",
      "include_colab_link": true
    },
    "kernelspec": {
      "name": "python3",
      "display_name": "Python 3"
    },
    "language_info": {
      "name": "python"
    }
  },
  "cells": [
    {
      "cell_type": "markdown",
      "metadata": {
        "id": "view-in-github",
        "colab_type": "text"
      },
      "source": [
        "<a href=\"https://colab.research.google.com/github/AshrayGattani/blkbox/blob/master/productDescriptions.ipynb\" target=\"_parent\"><img src=\"https://colab.research.google.com/assets/colab-badge.svg\" alt=\"Open In Colab\"/></a>"
      ]
    },
    {
      "cell_type": "code",
      "execution_count": null,
      "metadata": {
        "id": "rdEmSFxp_pz3"
      },
      "outputs": [],
      "source": [
        "# import requests\n",
        "# from bs4 import BeautifulSoup\n",
        "# from urllib.parse import urljoin\n",
        "# import pandas as pd\n",
        "\n",
        "# custom_headers = {\n",
        "#     \"accept-language\": \"en-GB,en;q=0.9\",\n",
        "#     \"user-agent\": \"Mozilla/5.0 (Macintosh; Intel Mac OS X 10_15_7) AppleWebKit/605.1.15 (KHTML, like Gecko) Version/16.1 Safari/605.1.15\",\n",
        "# }"
      ]
    },
    {
      "cell_type": "code",
      "source": [
        "custom_headers = {\n",
        "    \"accept-language\": \"en-GB,en;q=0.9\",\n",
        "    \"user-agent\": \"Mozilla/5.0 (Macintosh; Intel Mac OS X 10_15_7) AppleWebKit/605.1.15 (KHTML, like Gecko) Version/16.1 Safari/605.1.15\",\n",
        "}"
      ],
      "metadata": {
        "id": "R0arv3iaBIYk"
      },
      "execution_count": null,
      "outputs": []
    },
    {
      "cell_type": "code",
      "source": [
        "import requests\n",
        "from bs4 import BeautifulSoup\n",
        "\n",
        "def get_amazon_link(search_query):\n",
        "    base_url = \"https://www.amazon.in\"\n",
        "    search_url = f\"{base_url}/s/?field-keywords={search_query}\"\n",
        "\n",
        "    # Send a request to the Amazon search page\n",
        "    response = requests.get(search_url,headers=custom_headers)\n",
        "    soup = BeautifulSoup(response.text,'html.parser')\n",
        "    link_div = soup.find('div', {'class': 'a-section a-spacing-small puis-padding-left-small puis-padding-right-small'})\n",
        "\n",
        "    if link_div:\n",
        "        # Find the anchor tag within the div\n",
        "        link_anchor = link_div.find('a', {'class': 'a-link-normal s-underline-text s-underline-link-text s-link-style a-text-normal'})\n",
        "\n",
        "        if link_anchor:\n",
        "            # Extract the href attribute, which contains the Amazon link\n",
        "            amazon_link = link_anchor['href']\n",
        "            amazon_link = str(amazon_link)\n",
        "            return amazon_link\n",
        "    else:\n",
        "        print(\"Not Found.\")\n",
        "\n",
        "\n",
        "\n",
        "# Enter the product name you want to search for\n",
        "product_name = 'sunscreen'\n",
        "\n",
        "# Get the Amazon link for the product\n",
        "amazon_link = get_amazon_link(product_name)\n",
        "if amazon_link:\n",
        "  url_prod = \"https://www.amazon.in/\"+amazon_link\n",
        "  print(url_prod)\n",
        "\n",
        "\n"
      ],
      "metadata": {
        "colab": {
          "base_uri": "https://localhost:8080/"
        },
        "id": "w4R5HgOdBsSI",
        "outputId": "3291597d-e816-4a04-f76a-e265395ce3e5"
      },
      "execution_count": null,
      "outputs": [
        {
          "output_type": "stream",
          "name": "stdout",
          "text": [
            "https://www.amazon.in//Minimalist-Sunscreen-Multi-Vitamins-Cream/dp/B09FPS9D5T/ref=sr_1_1?keywords=sunscreen&qid=1705087485&sr=8-1\n"
          ]
        }
      ]
    },
    {
      "cell_type": "code",
      "source": [
        "from bs4 import BeautifulSoup\n",
        "\n",
        "\n",
        "response_attr = requests.get(url_prod,headers=custom_headers)\n",
        "soup = BeautifulSoup(response_attr.text, 'html.parser')\n",
        "\n",
        "# Find the div with id 'feature-bullets'\n",
        "feature_bullets_div = soup.find('div', {'id': 'feature-bullets'})\n",
        "\n",
        "if feature_bullets_div:\n",
        "    # Find the ul tag within the div\n",
        "    ul_tag = feature_bullets_div.find('ul', {'class': 'a-unordered-list'})\n",
        "\n",
        "    if ul_tag:\n",
        "        # Extract and print the text content of each li tag within the ul\n",
        "        for li_tag in ul_tag.find_all('li', {'class': 'a-spacing-mini'}):\n",
        "            print(li_tag.get_text(strip=True))\n",
        "    else:\n",
        "        print(\"No desciption found\")\n",
        "\n"
      ],
      "metadata": {
        "colab": {
          "base_uri": "https://localhost:8080/"
        },
        "id": "AmJQfY0TE38O",
        "outputId": "638f85e2-0a17-44b4-d1cf-975fc72d49c2"
      },
      "execution_count": null,
      "outputs": [
        {
          "output_type": "stream",
          "name": "stdout",
          "text": [
            "This sunscreen is formulated with 4 very effective UV-filters, namely, Uvinul T 150, Avobenzone, Octocrylene and Titanium Dioxide to provide protection from UVA & UVB\n",
            "Boosted with Vitamin A, B3, B5, E and F that not only repairs skin after sun exposure, but also soothes, nourishes and hydrates skin\n",
            "Thoroughly tested by an independent lab and confirmed SPF of 50 was obtained\n",
            "It is a Photostable and does not leave any white cast on application\n",
            "Spreads easily like a lightweight moisturiser and does not leave behind unwanted residue or heavy feeling\n",
            "The primary filters are sourced from BASF, Germany and Royal DSM, Netherlands\n"
          ]
        }
      ]
    }
  ]
}